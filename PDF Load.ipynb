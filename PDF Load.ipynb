{
 "cells": [
  {
   "cell_type": "code",
   "execution_count": 1,
   "id": "656ca92d",
   "metadata": {},
   "outputs": [
    {
     "data": {
      "text/plain": [
       "True"
      ]
     },
     "execution_count": 1,
     "metadata": {},
     "output_type": "execute_result"
    }
   ],
   "source": [
    "import os\n",
    "import dotenv\n",
    "dotenv.load_dotenv()"
   ]
  },
  {
   "cell_type": "code",
   "execution_count": 2,
   "id": "1663fd3b",
   "metadata": {},
   "outputs": [
    {
     "data": {
      "text/plain": [
       "['c:\\\\Users\\\\dudwn\\\\Desktop\\\\github\\\\Project\\\\doctrine\\\\MCRP 3-10A.1.pdf']"
      ]
     },
     "execution_count": 2,
     "metadata": {},
     "output_type": "execute_result"
    }
   ],
   "source": [
    "files = []\n",
    "file_path = os.path.join(os.getcwd(), \"doctrine\")\n",
    "file_list = os.listdir(file_path)\n",
    "\n",
    "for name in file_list :\n",
    "    files.append(os.path.join(file_path, name))\n",
    "\n",
    "files"
   ]
  },
  {
   "cell_type": "code",
   "execution_count": 3,
   "id": "38e6167c",
   "metadata": {},
   "outputs": [],
   "source": [
    "from langchain_community.document_loaders.pdf import PyPDFLoader\n",
    "from langchain.text_splitter import RecursiveCharacterTextSplitter"
   ]
  },
  {
   "cell_type": "code",
   "execution_count": 4,
   "id": "b596bc45",
   "metadata": {},
   "outputs": [],
   "source": [
    "for file in files : \n",
    "    loader = PyPDFLoader(file)\n",
    "    document = loader.load()"
   ]
  },
  {
   "cell_type": "code",
   "execution_count": 5,
   "id": "05f83e57",
   "metadata": {},
   "outputs": [
    {
     "data": {
      "text/plain": [
       "Document(metadata={'producer': 'PyPDF', 'creator': 'PyPDF', 'creationdate': '2020-08-25T07:42:41-04:00', 'moddate': '2020-08-26T09:17:40-04:00', 'source': 'c:\\\\Users\\\\dudwn\\\\Desktop\\\\github\\\\Project\\\\doctrine\\\\MCRP 3-10A.1.pdf', 'total_pages': 312, 'page': 15, 'page_label': '16'}, page_content='1-5 \\n \\nThe range of the battalion’s employment is primarily limited by its size, combat power, manner \\nof configuration, resources, assets, and personnel.  In its basic foot-mobile configuration, it is \\nlimited by its: \\n \\n\\uf0b7 Logistic assets. \\n\\uf0b7 Command and control (C2) assets. \\n\\uf0b7 Mobility assets. \\n\\uf0b7 Vulnerability to armor, artillery, and air threats. \\n\\uf0b7 Vulnerability to chemical, biological, radiological, and nuclear (CBRN) attack and \\npossession of only limited decontamination capabilities. \\n \\nAugmentation \\nAn infantry battalion often serves as the nucleus of a task force or landing team by attaching \\nadditional capabilities.  The only limit to the amount of resources that a battalion may attach is \\nits ability to command and control them.  Since the list of potential reinforcements, attachments, \\nand enablers is endless, the examples presented in the following subordinate sections represent \\nmost likely examples. \\n   \\nBattalion Landing Team for a Marine Expeditionary Unit.  Attached or supporting units \\nusually include: \\n   \\n\\uf0b7 Artillery battery (reinforced). \\n\\uf0b7 Tank platoon. \\n\\uf0b7 Assault amphibian platoon. \\n\\uf0b7 Light armored reconnaissance (LAR) platoon. \\n\\uf0b7 Combat engineer platoon. \\n\\uf0b7 Combat service support (CSS) augmentation. \\n\\uf0b7 Special intelligence teams. \\n\\uf0b7 Reconnaissance team.  \\n \\nGround Combat Element for a MAGTF.  Attached or supporting units might include: \\n \\n\\uf0b7 Tank platoon. \\n\\uf0b7 Assault amphibian platoon. \\n\\uf0b7 LAR platoon. \\n\\uf0b7 Combat engineer platoon. \\n\\uf0b7 Civil affairs team. \\n\\uf0b7 Military police. \\n\\uf0b7 Reconnaissance team.  \\n \\nIndependent Maneuver Element/Force Provider.  The battalion may find itself assigned \\nto a special purpose MAGTF that is involved in operations distributed over a large area.  In this \\nrole, it might employ its infantry companies as semi-independent or independent elements, \\nconducting offensive, defensive, and stability tasks and activities simultaneously.  Under these')"
      ]
     },
     "execution_count": 5,
     "metadata": {},
     "output_type": "execute_result"
    }
   ],
   "source": [
    "document[15]"
   ]
  },
  {
   "cell_type": "code",
   "execution_count": 6,
   "id": "3614de46",
   "metadata": {},
   "outputs": [],
   "source": [
    "text_splitter = RecursiveCharacterTextSplitter(chunk_size = 1000, chunk_overlap = 300)\n",
    "texts = text_splitter.split_documents(document)\n",
    "#페이지 단위로 문자가 찢어지는 문제 해결 필요."
   ]
  },
  {
   "cell_type": "code",
   "execution_count": 7,
   "id": "28480375",
   "metadata": {},
   "outputs": [
    {
     "name": "stdout",
     "output_type": "stream",
     "text": [
      "page_content='support the movement of another element with immediate fire.  Every battalion evolution or \n",
      "activity should employ an overwatch element, whether it is annual training on a live-fire range, a \n",
      "change of command ceremony, or the battalion commander conducting a KLE with village \n",
      "elders.  The need for overwatch cannot be dismissed.  The size of an overwatch element can \n",
      "range from two Marines to the employment of a platoon or more, based on METT-T' metadata={'producer': 'PyPDF', 'creator': 'PyPDF', 'creationdate': '2020-08-25T07:42:41-04:00', 'moddate': '2020-08-26T09:17:40-04:00', 'source': 'c:\\\\Users\\\\dudwn\\\\Desktop\\\\github\\\\Project\\\\doctrine\\\\MCRP 3-10A.1.pdf', 'total_pages': 312, 'page': 237, 'page_label': '238'}\n"
     ]
    }
   ],
   "source": [
    "print(texts[798])"
   ]
  },
  {
   "cell_type": "code",
   "execution_count": 8,
   "id": "eacfdfe0",
   "metadata": {},
   "outputs": [],
   "source": [
    "db_dir = os.path.join(os.getcwd(), \"db\")"
   ]
  },
  {
   "cell_type": "code",
   "execution_count": 9,
   "id": "0a8e55c6",
   "metadata": {},
   "outputs": [],
   "source": [
    "from langchain.vectorstores import Chroma\n",
    "from langchain_openai import OpenAIEmbeddings"
   ]
  },
  {
   "cell_type": "code",
   "execution_count": 10,
   "id": "07efe233",
   "metadata": {},
   "outputs": [],
   "source": [
    "def create_vector_store(docs, embedding, store_name, initialize = False) :\n",
    "    persistent_directory = os.path.join(db_dir, store_name)\n",
    "    if initialize == True :\n",
    "        os.remove(persistent_directory)\n",
    "        print(f\"-----Vector Store {store_name} is Initialized-----\")\n",
    "\n",
    "    if not os.path.exists(persistent_directory) :\n",
    "        print(f\"-----Creating Vector Store {store_name}-----\")\n",
    "        Chroma.from_documents(\n",
    "            docs, embedding, persist_directory = persistent_directory\n",
    "        )\n",
    "        print(f\"-----Finished Creating Vector Store {store_name}-----\")\n",
    "    else :\n",
    "        print(\n",
    "            f\"Vector Store {store_name} already exists. No need to Initialize\"\n",
    "        )"
   ]
  },
  {
   "cell_type": "code",
   "execution_count": 11,
   "id": "28f3bc2f",
   "metadata": {},
   "outputs": [
    {
     "name": "stdout",
     "output_type": "stream",
     "text": [
      "-----Using OpenAI Embeddings\n",
      "Vector Store chroma_db_openai already exists. No need to Initialize\n"
     ]
    }
   ],
   "source": [
    "print(\"-----Using OpenAI Embeddings\")\n",
    "openai_embeddings = OpenAIEmbeddings(model=\"text-embedding-3-small\")\n",
    "create_vector_store(texts, openai_embeddings, \"chroma_db_openai\")"
   ]
  },
  {
   "cell_type": "code",
   "execution_count": 13,
   "id": "a12ad544",
   "metadata": {},
   "outputs": [],
   "source": [
    "persistent_directory = os.path.join(db_dir, \"chroma_db_openai\")\n",
    "\n",
    "\n",
    "def query_vector_store(store_name, query, embeddings, search_type, search_kwargs) :\n",
    "    if os.path.exists(persistent_directory) : \n",
    "        print(f\"----- Querying the Vectore Store {store_name} -----\")\n",
    "        db = Chroma(\n",
    "            persist_directory = persistent_directory,\n",
    "            embedding_function = embeddings\n",
    "        )\n",
    "        retriever = db.as_retriever(\n",
    "            search_type = search_type,\n",
    "            search_kwargs = search_kwargs\n",
    "        )\n",
    "        relevant_docs = retriever.invoke(query)\n",
    "        print(f\"----- Relevant Documents for {store_name} -----\")\n",
    "        for i, doc in enumerate(relevant_docs, 1) : \n",
    "            print(f\"Document {i} : {doc.page_content}\")\n",
    "            if doc.metadata : \n",
    "                print(f\"Source : {doc.metadata.get(\"source\", \"Unknown\")}\\n\")\n",
    "        return relevant_docs\n",
    "    else : \n",
    "        print(f\"Vector store {store_name} does not exist.\")"
   ]
  },
  {
   "cell_type": "code",
   "execution_count": 14,
   "id": "8aee98fa",
   "metadata": {},
   "outputs": [],
   "source": [
    "query = \"what is overwatch?\""
   ]
  },
  {
   "cell_type": "code",
   "execution_count": 15,
   "id": "74d9cd01",
   "metadata": {},
   "outputs": [
    {
     "name": "stdout",
     "output_type": "stream",
     "text": [
      "----- Querying the Vectore Store chroma_db_metadata -----\n"
     ]
    },
    {
     "name": "stderr",
     "output_type": "stream",
     "text": [
      "C:\\Users\\dudwn\\AppData\\Local\\Temp\\ipykernel_33276\\2670307415.py:7: LangChainDeprecationWarning: The class `Chroma` was deprecated in LangChain 0.2.9 and will be removed in 1.0. An updated version of the class exists in the :class:`~langchain-chroma package and should be used instead. To use it run `pip install -U :class:`~langchain-chroma` and import as `from :class:`~langchain_chroma import Chroma``.\n",
      "  db = Chroma(\n"
     ]
    },
    {
     "name": "stdout",
     "output_type": "stream",
     "text": [
      "----- Relevant Documents for chroma_db_metadata -----\n",
      "Document 1 : 11-14 \n",
      " \n",
      "considerations.  They may be armed or unarmed, depending on the situation.  The following \n",
      "guidelines should apply to overwatch employment: \n",
      " \n",
      " Personnel and equipment remain tactically alert to provide security, protection, and  \n",
      "early warning.  \n",
      " Overwatch elements should be given guidance and training regarding the use of deadly \n",
      "force, local ROE, and escalation of force continuum procedures. \n",
      " Overwatch elements rehearse the immediate actions required of them. \n",
      " Units must employ the appropriate communications to ensure that overwatch elements \n",
      "can provide proper early warning of a threat. \n",
      " Overwatch elements remain vigilant and alert to potentially hostile activities and actions \n",
      "near their units. \n",
      " Overwatch elements should be rotated to maintain the highest levels of awareness. \n",
      " Overwatch elements should be employed at all unit evolutions, regardless of size or \n",
      "operational environment.  \n",
      " \n",
      "Fratricide Avoidance\n",
      "Source : c:\\Users\\dudwn\\Desktop\\Coding\\Project\\doctrine\\MCRP 3-10A.1.pdf\n",
      "\n",
      "Document 2 : 10-6 \n",
      " \n",
      " \n",
      "Figure 10-4.  Traveling Overwatch. \n",
      " \n",
      "Bounding Overwatch.  Bounding overwatch is used when contact with enemy forces is \n",
      "expected.  The unit moves by bounds; one element is always halted in position to overwatch \n",
      "another element while it moves.  The overwatch elements of the battalion are positioned to \n",
      "support the movement of the main body by fire or fire and movement.  Bounding overwatch is \n",
      "performed using two techniques: alternate bounding (see fig. 10-5) and successive bounding  \n",
      "(see fig. 10-6). \n",
      " \n",
      " \n",
      "Figure 10-5.  Bounding Overwatch Using Alternate Bounds. \n",
      "BN_033\n",
      "First overwatch position Third overwatch position\n",
      "Second overwatch position\n",
      "CSS\n",
      "Rest of moving force\n",
      "Second bound\n",
      "First bound Third bound\n",
      "Source : c:\\Users\\dudwn\\Desktop\\Coding\\Project\\doctrine\\MCRP 3-10A.1.pdf\n",
      "\n",
      "Document 3 : 10-5 \n",
      " \n",
      " \n",
      "Figure 10-3.  Traveling. \n",
      " \n",
      " \n",
      "Traveling Overwatch.  The commander uses the traveling overwatch movement technique \n",
      "when contact with enemy forces is possible, but speed is important.  The lead trailing elements \n",
      "maintain short dispersion relative to the terrain.  The trailing element moves at variable speeds, \n",
      "pausing for short periods when necessary to overwatch the lead element.  It keys its movement  \n",
      "to the terrain and the lead element, conducting overwatch from a distance that, should the  \n",
      "enemy engage the lead element, will not prevent the trailing element from firing or moving to \n",
      "support the lead element.  Figure 10-4 on page 10-6 shows an example of the traveling \n",
      "overwatch technique.  Due to the need for speed and mobility by overwatch elements, especially \n",
      "when dismounted, care must be taken to ensure that overwatch elements are not overburdened \n",
      "with extraneous gear or equipment.\n",
      "Source : c:\\Users\\dudwn\\Desktop\\Coding\\Project\\doctrine\\MCRP 3-10A.1.pdf\n",
      "\n",
      "Document 4 : that can negatively affect mission accomplishment and troop welfare.  Battalion commanders \n",
      "and leadership should view these internal issues as they do external issues, through the lens of \n",
      "ORM, by asking the following questions: \n",
      " \n",
      " What must the battalion do to accomplish the mission? \n",
      " What are the risks entailed in conducting the mission in terms of internal failures? \n",
      " What controls can the battalion implement to mitigate or eliminate those risks? \n",
      " \n",
      "Overwatch \n",
      "Overwatch is a tactical movement technique in which one element is positioned to support the \n",
      "movement of another element with immediate fire, or the tactical role of an element positioned to \n",
      "support the movement of another element with immediate fire.  Every battalion evolution or \n",
      "activity should employ an overwatch element, whether it is annual training on a live-fire range, a \n",
      "change of command ceremony, or the battalion commander conducting a KLE with village\n",
      "Source : c:\\Users\\dudwn\\Desktop\\Coding\\Project\\doctrine\\MCRP 3-10A.1.pdf\n",
      "\n",
      "Document 5 : support the movement of another element with immediate fire.  Every battalion evolution or \n",
      "activity should employ an overwatch element, whether it is annual training on a live-fire range, a \n",
      "change of command ceremony, or the battalion commander conducting a KLE with village \n",
      "elders.  The need for overwatch cannot be dismissed.  The size of an overwatch element can \n",
      "range from two Marines to the employment of a platoon or more, based on METT-T\n",
      "Source : c:\\Users\\dudwn\\Desktop\\Coding\\Project\\doctrine\\MCRP 3-10A.1.pdf\n",
      "\n"
     ]
    }
   ],
   "source": [
    "relevant_docs = query_vector_store(\"chroma_db_metadata\", query, openai_embeddings, \"similarity\", {\"k\" : 5})"
   ]
  },
  {
   "cell_type": "code",
   "execution_count": 16,
   "id": "c70b8721",
   "metadata": {},
   "outputs": [],
   "source": [
    "combined_input = (\n",
    "    \"Here are some documents that might help answer the question : \"\n",
    "    + query\n",
    "    + \"\\n\\n Relevant Documents:\\n\"\n",
    "    + \"\\n\\n\".join([doc.page_content for doc in relevant_docs])\n",
    "    + \"\\n\\n Please provide an answer based only on the provided documents\"\n",
    ")"
   ]
  },
  {
   "cell_type": "code",
   "execution_count": 18,
   "id": "b0b6b90a",
   "metadata": {},
   "outputs": [],
   "source": [
    "from langchain_core.messages import HumanMessage, SystemMessage\n"
   ]
  },
  {
   "cell_type": "code",
   "execution_count": 19,
   "id": "22a8fc4e",
   "metadata": {},
   "outputs": [],
   "source": [
    "messages = [\n",
    "    SystemMessage(content = \"You are a helpful assistant\"),\n",
    "    HumanMessage(content = combined_input)\n",
    "]"
   ]
  },
  {
   "cell_type": "code",
   "execution_count": null,
   "id": "74bd28e0",
   "metadata": {},
   "outputs": [],
   "source": [
    "from langchain_openai import ChatOpenAI"
   ]
  },
  {
   "cell_type": "code",
   "execution_count": 23,
   "id": "bb3522e0",
   "metadata": {},
   "outputs": [],
   "source": [
    "model = ChatOpenAI()"
   ]
  },
  {
   "cell_type": "code",
   "execution_count": 28,
   "id": "1c36d53a",
   "metadata": {},
   "outputs": [],
   "source": [
    "messages = model.invoke(messages)"
   ]
  },
  {
   "cell_type": "code",
   "execution_count": 36,
   "id": "2b02678e",
   "metadata": {},
   "outputs": [
    {
     "data": {
      "text/plain": [
       "'Based on the provided documents, Overwatch is defined as a tactical movement technique where one element is positioned to support the movement of another element with immediate fire. It is a crucial aspect of military operations, requiring personnel and equipment to remain tactically alert to provide security, protection, and early warning. Overwatch elements must be well-trained in the use of deadly force, local rules of engagement (ROE), and escalation of force continuum procedures. Units should employ appropriate communications to ensure overwatch elements can provide early warning of threats, and rotation of overwatch elements is necessary to maintain high levels of awareness. Overwatch should be utilized in all unit evolutions, regardless of size or operational environment. The size of an overwatch element can vary based on mission requirements.'"
      ]
     },
     "execution_count": 36,
     "metadata": {},
     "output_type": "execute_result"
    }
   ],
   "source": [
    "messages.content"
   ]
  },
  {
   "cell_type": "code",
   "execution_count": null,
   "id": "019b4b6b",
   "metadata": {},
   "outputs": [],
   "source": [
    "chcp 65001\n",
    "\n",
    "bundle exec jekyll serve"
   ]
  }
 ],
 "metadata": {
  "kernelspec": {
   "display_name": "myenv",
   "language": "python",
   "name": "python3"
  },
  "language_info": {
   "codemirror_mode": {
    "name": "ipython",
    "version": 3
   },
   "file_extension": ".py",
   "mimetype": "text/x-python",
   "name": "python",
   "nbconvert_exporter": "python",
   "pygments_lexer": "ipython3",
   "version": "3.12.7"
  }
 },
 "nbformat": 4,
 "nbformat_minor": 5
}
